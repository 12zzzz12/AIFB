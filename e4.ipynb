{
 "cells": [
  {
   "cell_type": "code",
   "execution_count": null,
   "id": "e52f52c7",
   "metadata": {},
   "outputs": [],
   "source": [
    "# **실습4**\n",
    "# ### **wine recognition 데이터를 이용한 <span style=\"color:darkgreen\">AI 예측</span> 문제**\n",
    "# ---"
   ]
  },
  {
   "cell_type": "code",
   "execution_count": 23,
   "id": "90ec237c",
   "metadata": {},
   "outputs": [],
   "source": [
    "from sklearn.datasets import load_wine\n",
    "wine = load_wine()\n",
    "\n",
    "x = wine.data\n",
    "y = wine.target\n",
    "col_names = wine.feature_names\n"
   ]
  },
  {
   "cell_type": "code",
   "execution_count": 24,
   "id": "d7df8ddc",
   "metadata": {},
   "outputs": [],
   "source": [
    "import numpy as np\n",
    "import matplotlib.pyplot as plt"
   ]
  },
  {
   "cell_type": "code",
   "execution_count": 25,
   "id": "66fb0a49",
   "metadata": {},
   "outputs": [
    {
     "name": "stdout",
     "output_type": "stream",
     "text": [
      "178\n",
      "13\n",
      "(178, 13)\n"
     ]
    }
   ],
   "source": [
    "print(len(x))\n",
    "print(len(x[0]))\n",
    "print(x.shape)"
   ]
  },
  {
   "cell_type": "code",
   "execution_count": 29,
   "id": "ffb23842",
   "metadata": {},
   "outputs": [
    {
     "name": "stdout",
     "output_type": "stream",
     "text": [
      "(142, 13)\n",
      "(142,)\n"
     ]
    }
   ],
   "source": [
    "from sklearn.model_selection import train_test_split\n",
    "\n",
    "x_train, x_test, y_train, y_test = train_test_split(x, y, test_size=0.2, stratify=y, random_state=2022)\n",
    "\n",
    "print(x_train.shape)\n",
    "print(y_train.shape)"
   ]
  },
  {
   "cell_type": "code",
   "execution_count": 56,
   "id": "36fe9a51",
   "metadata": {},
   "outputs": [
    {
     "name": "stdout",
     "output_type": "stream",
     "text": [
      "[DecisionTreeClassifier(max_depth=1, random_state=2021), DecisionTreeClassifier(max_depth=2, random_state=2021), DecisionTreeClassifier(max_depth=3, random_state=2021), DecisionTreeClassifier(max_depth=4, random_state=2021), DecisionTreeClassifier(max_depth=5, random_state=2021), DecisionTreeClassifier(max_depth=6, random_state=2021), DecisionTreeClassifier(max_depth=7, random_state=2021), DecisionTreeClassifier(max_depth=8, random_state=2021), DecisionTreeClassifier(max_depth=9, random_state=2021), DecisionTreeClassifier(max_depth=10, random_state=2021), DecisionTreeClassifier(max_depth=11, random_state=2021), DecisionTreeClassifier(max_depth=12, random_state=2021), DecisionTreeClassifier(max_depth=13, random_state=2021), DecisionTreeClassifier(max_depth=14, random_state=2021)]\n"
     ]
    }
   ],
   "source": [
    "from sklearn.tree import DecisionTreeClassifier\n",
    "\n",
    "trees = []\n",
    "for i in range(1,15):\n",
    "    tree = DecisionTreeClassifier(max_depth= i ,random_state=2021)\n",
    "    a = tree.fit(x_train, y_train)\n",
    "    trees.append(a)\n",
    "    \n",
    "print(trees)\n"
   ]
  },
  {
   "cell_type": "code",
   "execution_count": 57,
   "id": "8609cd43",
   "metadata": {},
   "outputs": [
    {
     "name": "stdout",
     "output_type": "stream",
     "text": [
      "[0.7222222222222222, 0.8611111111111112, 0.9444444444444444, 0.9722222222222222, 0.9722222222222222, 1.0, 1.0, 1.0, 1.0, 1.0, 1.0, 1.0, 1.0, 1.0]\n"
     ]
    }
   ],
   "source": [
    "accs = []\n",
    "for i in range(0,14):\n",
    "    accs.append(trees[i].score(x_test, y_test))\n",
    "print(accs)"
   ]
  },
  {
   "cell_type": "code",
   "execution_count": 60,
   "id": "b8a21ba5",
   "metadata": {},
   "outputs": [
    {
     "name": "stdout",
     "output_type": "stream",
     "text": [
      "가장 성능이 좋은 depth: 6\n"
     ]
    },
    {
     "data": {
      "image/png": "[encoded data removed]",
      "text/plain": [
       "<Figure size 432x288 with 1 Axes>"
      ]
     },
     "metadata": {
      "needs_background": "light"
     },
     "output_type": "display_data"
    }
   ],
   "source": [
    "plt.plot(accs)\n",
    "#plt.scatter(x = accs, y =[0,1,2,3,4,5,6,7,8,9,10,11,12,13])\n",
    "\n",
    "max_acc = max(accs)\n",
    "depth = 0\n",
    "for i in range(len(accs)):\n",
    "    if max_acc == accs[i]:\n",
    "        depth =i+1\n",
    "        break\n",
    "print('가장 성능이 좋은 depth:', depth)"
   ]
  },
  {
   "cell_type": "code",
   "execution_count": 61,
   "id": "26da4043",
   "metadata": {},
   "outputs": [
    {
     "name": "stdout",
     "output_type": "stream",
     "text": [
      "[DecisionTreeClassifier(max_depth=6, min_samples_leaf=5, random_state=2021), DecisionTreeClassifier(max_depth=6, min_samples_leaf=6, random_state=2021), DecisionTreeClassifier(max_depth=6, min_samples_leaf=7, random_state=2021), DecisionTreeClassifier(max_depth=6, min_samples_leaf=8, random_state=2021), DecisionTreeClassifier(max_depth=6, min_samples_leaf=9, random_state=2021), DecisionTreeClassifier(max_depth=6, min_samples_leaf=10, random_state=2021), DecisionTreeClassifier(max_depth=6, min_samples_leaf=11, random_state=2021), DecisionTreeClassifier(max_depth=6, min_samples_leaf=12, random_state=2021), DecisionTreeClassifier(max_depth=6, min_samples_leaf=13, random_state=2021), DecisionTreeClassifier(max_depth=6, min_samples_leaf=14, random_state=2021), DecisionTreeClassifier(max_depth=6, min_samples_leaf=15, random_state=2021)]\n"
     ]
    }
   ],
   "source": [
    "trees = []\n",
    "for i in range(5,16):\n",
    "    tree = DecisionTreeClassifier(min_samples_leaf = i, max_depth=depth,random_state=2021)\n",
    "    a = tree.fit(x_train, y_train)\n",
    "    trees.append(a)\n",
    "    \n",
    "print(trees)"
   ]
  },
  {
   "cell_type": "code",
   "execution_count": 63,
   "id": "22a62f69",
   "metadata": {},
   "outputs": [
    {
     "name": "stdout",
     "output_type": "stream",
     "text": [
      "[0.9722222222222222, 0.9722222222222222, 0.9722222222222222, 1.0, 0.8611111111111112, 0.8611111111111112, 0.8611111111111112, 0.75, 0.8333333333333334, 0.8333333333333334, 0.8333333333333334]\n"
     ]
    }
   ],
   "source": [
    "accs = []\n",
    "for tree in trees :\n",
    "    acc = tree.score(x_test,y_test)\n",
    "    accs.append(acc)\n",
    "print(accs)"
   ]
  },
  {
   "cell_type": "code",
   "execution_count": 64,
   "id": "8297cbe5",
   "metadata": {},
   "outputs": [
    {
     "data": {
      "image/png": "[encoded data removed]",
      "text/plain": [
       "<Figure size 432x288 with 1 Axes>"
      ]
     },
     "metadata": {
      "needs_background": "light"
     },
     "output_type": "display_data"
    },
    {
     "name": "stdout",
     "output_type": "stream",
     "text": [
      "가장 성능이 좋은 sample 수: 8\n"
     ]
    }
   ],
   "source": [
    "plt.plot(range(5,16),accs)\n",
    "plt.xlabel('min_leaf_samples')\n",
    "plt.ylabel('accuracy')\n",
    "plt.show()\n",
    "\n",
    "samples = 0 #가장 성능이 좋은 최소 생플 수\n",
    "idx = 0 #가장 성능이 좋은 tree 인덱스\n",
    "\n",
    "max_acc = max(accs)\n",
    "for i in range(len(accs)):\n",
    "    if accs[i]==max_acc:\n",
    "        samples = i+5\n",
    "        idx = i\n",
    "        break\n",
    "print('가장 성능이 좋은 sample 수:', samples)"
   ]
  },
  {
   "cell_type": "code",
   "execution_count": 65,
   "id": "fc992f82",
   "metadata": {},
   "outputs": [
    {
     "data": {
      "image/png": "[encoded data removed]",
      "text/plain": [
       "<Figure size 432x288 with 1 Axes>"
      ]
     },
     "metadata": {
      "needs_background": "light"
     },
     "output_type": "display_data"
    }
   ],
   "source": [
    "rfi = trees[idx].feature_importances_\n",
    "plt.barh(col_names, rfi)\n",
    "plt.ylabel('features')\n",
    "plt.xlabel('importance')\n",
    "plt.show()\n"
   ]
  },
  {
   "cell_type": "code",
   "execution_count": 66,
   "id": "63fd9f79",
   "metadata": {},
   "outputs": [
    {
     "name": "stdout",
     "output_type": "stream",
     "text": [
      "1.0\n"
     ]
    }
   ],
   "source": [
    "print(accs[idx])"
   ]
  },
  {
   "cell_type": "code",
   "execution_count": 54,
   "id": "a5c98d09",
   "metadata": {},
   "outputs": [],
   "source": [
    "import tensorflow as tf\n",
    "from tensorflow import keras\n",
    "from tensorflow.keras.layers import Input, Dense, Dropout\n",
    "from tensorflow.keras.models import Sequential, Model\n",
    "from tensorflow.keras.callbacks import EarlyStopping, ModelCheckpoint\n"
   ]
  },
  {
   "cell_type": "code",
   "execution_count": 67,
   "id": "c4de8e47",
   "metadata": {},
   "outputs": [
    {
     "name": "stdout",
     "output_type": "stream",
     "text": [
      "Epoch 1/2000\n",
      "5/5 [==============================] - 0s 39ms/step - loss: 56.0345 - acc: 0.0845 - val_loss: 9.3215 - val_acc: 0.3611\n",
      "Epoch 2/2000\n",
      "5/5 [==============================] - 0s 14ms/step - loss: 15.9529 - acc: 0.3521 - val_loss: 4.3322 - val_acc: 0.4167\n",
      "Epoch 3/2000\n",
      "5/5 [==============================] - 0s 8ms/step - loss: 13.1454 - acc: 0.3732 - val_loss: 5.0983 - val_acc: 0.4444\n",
      "Epoch 4/2000\n",
      "5/5 [==============================] - 0s 15ms/step - loss: 10.6954 - acc: 0.4296 - val_loss: 3.3470 - val_acc: 0.4444\n",
      "Epoch 5/2000\n",
      "5/5 [==============================] - 0s 14ms/step - loss: 9.1783 - acc: 0.4014 - val_loss: 2.5502 - val_acc: 0.5556\n",
      "Epoch 6/2000\n",
      "5/5 [==============================] - 0s 8ms/step - loss: 6.9083 - acc: 0.4155 - val_loss: 6.2637 - val_acc: 0.3889\n",
      "Epoch 7/2000\n",
      "5/5 [==============================] - 0s 10ms/step - loss: 6.2551 - acc: 0.4718 - val_loss: 3.1023 - val_acc: 0.3889\n",
      "Epoch 8/2000\n",
      "5/5 [==============================] - 0s 12ms/step - loss: 5.3236 - acc: 0.4085 - val_loss: 3.1864 - val_acc: 0.3056\n",
      "Epoch 9/2000\n",
      "5/5 [==============================] - 0s 16ms/step - loss: 4.7192 - acc: 0.4366 - val_loss: 2.4958 - val_acc: 0.2778\n",
      "Epoch 10/2000\n",
      "5/5 [==============================] - 0s 8ms/step - loss: 4.5646 - acc: 0.4437 - val_loss: 3.1648 - val_acc: 0.3889\n",
      "Epoch 11/2000\n",
      "5/5 [==============================] - 0s 16ms/step - loss: 3.8673 - acc: 0.4437 - val_loss: 1.6941 - val_acc: 0.6389\n",
      "Epoch 12/2000\n",
      "5/5 [==============================] - 0s 8ms/step - loss: 3.3325 - acc: 0.4577 - val_loss: 1.9379 - val_acc: 0.3889\n",
      "Epoch 13/2000\n",
      "5/5 [==============================] - 0s 14ms/step - loss: 3.6279 - acc: 0.4437 - val_loss: 1.4075 - val_acc: 0.6944\n",
      "Epoch 14/2000\n",
      "5/5 [==============================] - 0s 14ms/step - loss: 2.5129 - acc: 0.5141 - val_loss: 0.8545 - val_acc: 0.6389\n",
      "Epoch 15/2000\n",
      "5/5 [==============================] - 0s 16ms/step - loss: 2.5836 - acc: 0.5070 - val_loss: 0.7849 - val_acc: 0.5833\n",
      "Epoch 16/2000\n",
      "5/5 [==============================] - 0s 10ms/step - loss: 2.5070 - acc: 0.4718 - val_loss: 0.7925 - val_acc: 0.6944\n",
      "Epoch 17/2000\n",
      "5/5 [==============================] - 0s 10ms/step - loss: 2.4992 - acc: 0.4366 - val_loss: 0.8626 - val_acc: 0.6389\n",
      "Epoch 18/2000\n",
      "5/5 [==============================] - 0s 18ms/step - loss: 2.3864 - acc: 0.4437 - val_loss: 0.7569 - val_acc: 0.6111\n",
      "Epoch 19/2000\n",
      "5/5 [==============================] - 0s 8ms/step - loss: 2.0795 - acc: 0.4789 - val_loss: 0.9768 - val_acc: 0.5000\n",
      "Epoch 20/2000\n",
      "5/5 [==============================] - 0s 8ms/step - loss: 2.2593 - acc: 0.4648 - val_loss: 0.8964 - val_acc: 0.6667\n",
      "Epoch 21/2000\n",
      "5/5 [==============================] - 0s 8ms/step - loss: 2.3293 - acc: 0.4859 - val_loss: 0.9133 - val_acc: 0.5000\n",
      "Epoch 22/2000\n",
      "5/5 [==============================] - 0s 8ms/step - loss: 1.9571 - acc: 0.4789 - val_loss: 0.9978 - val_acc: 0.4444\n",
      "Epoch 23/2000\n",
      "5/5 [==============================] - 0s 8ms/step - loss: 2.0470 - acc: 0.4859 - val_loss: 0.8322 - val_acc: 0.5278\n",
      "Epoch 24/2000\n",
      "5/5 [==============================] - 0s 19ms/step - loss: 1.7681 - acc: 0.4577 - val_loss: 0.7221 - val_acc: 0.6111\n",
      "Epoch 25/2000\n",
      "5/5 [==============================] - 0s 16ms/step - loss: 1.8424 - acc: 0.4648 - val_loss: 0.6388 - val_acc: 0.6389\n",
      "Epoch 26/2000\n",
      "5/5 [==============================] - 0s 8ms/step - loss: 1.9439 - acc: 0.4718 - val_loss: 0.7086 - val_acc: 0.5556\n",
      "Epoch 27/2000\n",
      "5/5 [==============================] - 0s 10ms/step - loss: 1.7056 - acc: 0.5282 - val_loss: 0.9814 - val_acc: 0.4167\n",
      "Epoch 28/2000\n",
      "5/5 [==============================] - 0s 10ms/step - loss: 1.7932 - acc: 0.4859 - val_loss: 0.7315 - val_acc: 0.7500\n",
      "Epoch 29/2000\n",
      "5/5 [==============================] - 0s 8ms/step - loss: 1.4536 - acc: 0.5493 - val_loss: 0.7458 - val_acc: 0.5833\n",
      "Epoch 30/2000\n",
      "5/5 [==============================] - 0s 8ms/step - loss: 1.6058 - acc: 0.4789 - val_loss: 0.7489 - val_acc: 0.5833\n",
      "Epoch 31/2000\n",
      "5/5 [==============================] - 0s 8ms/step - loss: 1.6829 - acc: 0.5423 - val_loss: 0.7562 - val_acc: 0.7222\n",
      "Epoch 32/2000\n",
      "5/5 [==============================] - 0s 8ms/step - loss: 1.3353 - acc: 0.5775 - val_loss: 0.9486 - val_acc: 0.3889\n",
      "Epoch 33/2000\n",
      "5/5 [==============================] - 0s 10ms/step - loss: 1.0826 - acc: 0.5352 - val_loss: 1.2623 - val_acc: 0.3889\n",
      "Epoch 34/2000\n",
      "5/5 [==============================] - 0s 10ms/step - loss: 1.5692 - acc: 0.4648 - val_loss: 1.0964 - val_acc: 0.4167\n",
      "Epoch 35/2000\n",
      "5/5 [==============================] - 0s 8ms/step - loss: 1.6391 - acc: 0.4789 - val_loss: 0.9384 - val_acc: 0.4167\n",
      "Epoch 00035: early stopping\n"
     ]
    }
   ],
   "source": [
    "model = Sequential()\n",
    "model.add(Dense(256, input_shape=x_train.shape[1:], activation='relu'))\n",
    "model.add(Dropout(0.1))\n",
    "model.add(Dense(128, activation='relu'))\n",
    "model.add(Dropout(0.1))\n",
    "model.add(Dense(64, activation='relu'))\n",
    "model.add(Dropout(0.1))\n",
    "model.add(Dense(16, activation='softmax'))\n",
    "\n",
    "model.compile(optimizer='adam', loss='sparse_categorical_crossentropy', metrics=['acc'])\n",
    "es = EarlyStopping(monitor='val_loss', mode='auto', verbose=1, patience=10)\n",
    "mc = ModelCheckpoint('best_model4.h5', monitor='val_loss', batch_size=64, mode='auto', save_best_only=True)\n",
    "\n",
    "history = model.fit(\n",
    "    x=x_train, y=y_train,\n",
    "    epochs=2000,\n",
    "    validation_data=(x_test, y_test),\n",
    "    callbacks=[es, mc],\n",
    "    verbose=1)\n",
    "\n"
   ]
  },
  {
   "cell_type": "code",
   "execution_count": 69,
   "id": "8d74b15b",
   "metadata": {},
   "outputs": [
    {
     "data": {
      "image/png": "[encoded data removed]",
      "text/plain": [
       "<Figure size 432x288 with 1 Axes>"
      ]
     },
     "metadata": {
      "needs_background": "light"
     },
     "output_type": "display_data"
    }
   ],
   "source": [
    "plt.plot(history.history['loss'],label='train_loss')\n",
    "plt.plot(history.history['val_loss'],label='val_loss')\n",
    "plt.xlabel('epochs')\n",
    "plt.ylabel('loss')\n",
    "plt.title('Loss')\n",
    "\n",
    "plt.legend()\n",
    "plt.show()"
   ]
  },
  {
   "cell_type": "code",
   "execution_count": null,
   "id": "bf29b838",
   "metadata": {},
   "outputs": [],
   "source": []
  },
  {
   "cell_type": "code",
   "execution_count": null,
   "id": "51722d02",
   "metadata": {},
   "outputs": [],
   "source": []
  }
 ],
 "metadata": {
  "kernelspec": {
   "display_name": "Python 3",
   "language": "python",
   "name": "python3"
  },
  "language_info": {
   "codemirror_mode": {
    "name": "ipython",
    "version": 3
   },
   "file_extension": ".py",
   "mimetype": "text/x-python",
   "name": "python",
   "nbconvert_exporter": "python",
   "pygments_lexer": "ipython3",
   "version": "3.8.8"
  }
 },
 "nbformat": 4,
 "nbformat_minor": 5
}
